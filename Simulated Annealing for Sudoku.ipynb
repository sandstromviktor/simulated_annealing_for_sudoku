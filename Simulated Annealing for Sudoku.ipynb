{
 "cells": [
  {
   "cell_type": "markdown",
   "id": "1147f8e1",
   "metadata": {},
   "source": [
    "<center><h2> Simulated Annealing for Sudoku"
   ]
  },
  {
   "cell_type": "markdown",
   "id": "3fc62188",
   "metadata": {},
   "source": [
    "In this notebook we will solve a Sudoku using simulated annealing. For a Sudoku problem, it works in four steps.\n",
    "Start by filling each column in the sudoku with the missing numbers. Doing this ensures that the correct numbers are already in the sudoku, all we need is to find the correct positions. \n",
    "\n",
    "1. Randomly swap two numbers in a random column\n",
    "2. Calculate the number of rule breaks.\n",
    "3. Accept the swap if the error decreases or with a certain probability\n",
    "4. If accepted, lower the temperature parameter\n",
    "Step 1-3 are the repeated until convergence.\n",
    "\n",
    "The accept/reject mechanism works by calculating $\\exp{(-\\frac{(e' - e) }{T})}$ and accepting if the value is larger than $r \\sim \\mathcal{U}(0,1)$.\n",
    "where $e'$ is the error from the proposed sudoku, $s$ is the current error and $T$ is the temperature parameter. The lower the temperature, the harder is is to accept proposals which increase the error. "
   ]
  },
  {
   "cell_type": "code",
   "execution_count": 6,
   "id": "e155afbb",
   "metadata": {},
   "outputs": [],
   "source": [
    "import numpy as np\n",
    "import matplotlib.pyplot as plt\n",
    "from Sudoku import Sudoku \n",
    "import copy"
   ]
  },
  {
   "cell_type": "markdown",
   "id": "ee6a5726",
   "metadata": {},
   "source": [
    "This uses a class called `Sudoku` which contains some functions for calculating errors, swapping elements and such. See code for more specifics.  "
   ]
  },
  {
   "cell_type": "code",
   "execution_count": 7,
   "id": "ff2e85e0",
   "metadata": {
    "scrolled": false
   },
   "outputs": [
    {
     "data": {
      "text/plain": [
       "------------------------------------\n",
       "|  0  0  3  | 0  5  6  | 7  8  9  |\n",
       "|  4  0  0  | 0  0  0  | 0  2  0  |\n",
       "|  7  0  9  | 0  0  0  | 4  0  0  |\n",
       "------------------------------------\n",
       "|  0  3  4  | 0  0  0  | 8  9  1  |\n",
       "|  0  6  0  | 8  0  0  | 2  3  0  |\n",
       "|  0  0  1  | 2  3  0  | 0  0  7  |\n",
       "------------------------------------\n",
       "|  3  0  5  | 6  7  0  | 0  0  2  |\n",
       "|  0  7  0  | 9  1  0  | 0  4  0  |\n",
       "|  9  1  2  | 3  4  5  | 0  0  8  |\n",
       "------------------------------------"
      ]
     },
     "execution_count": 7,
     "metadata": {},
     "output_type": "execute_result"
    }
   ],
   "source": [
    "# Generate a generic sudoku board\n",
    "n = 3\n",
    "q = Sudoku(n**2, beta=0.5)\n",
    "q"
   ]
  },
  {
   "cell_type": "code",
   "execution_count": 8,
   "id": "6d166c93",
   "metadata": {},
   "outputs": [
    {
     "name": "stdout",
     "output_type": "stream",
     "text": [
      "Error for this board is  36.0\n"
     ]
    }
   ],
   "source": [
    "# Fill columns correctly and calculate error\n",
    "q.fill_columns_uniquely()\n",
    "error = q.error_count()\n",
    "q\n",
    "print('Error for this board is ', error)"
   ]
  },
  {
   "cell_type": "markdown",
   "id": "d67efae8",
   "metadata": {},
   "source": [
    "Now that we have a sudoku where all elements are members of the sudoku, but placed in the wrong row, we can start the simulated annealing."
   ]
  },
  {
   "cell_type": "code",
   "execution_count": 9,
   "id": "11749c2c",
   "metadata": {},
   "outputs": [
    {
     "name": "stdout",
     "output_type": "stream",
     "text": [
      "Solution found after  988  iterations\n",
      "------------------------------------\n",
      "|  1  2  3  | 4  5  6  | 7  8  9  |\n",
      "|  4  5  6  | 7  8  9  | 1  2  3  |\n",
      "|  7  8  9  | 1  2  3  | 4  5  6  |\n",
      "------------------------------------\n",
      "|  2  3  4  | 5  6  7  | 8  9  1  |\n",
      "|  5  6  7  | 8  9  1  | 2  3  4  |\n",
      "|  8  9  1  | 2  3  4  | 5  6  7  |\n",
      "------------------------------------\n",
      "|  3  4  5  | 6  7  8  | 9  1  2  |\n",
      "|  6  7  8  | 9  1  2  | 3  4  5  |\n",
      "|  9  1  2  | 3  4  5  | 6  7  8  |\n",
      "------------------------------------\n",
      "\n"
     ]
    }
   ],
   "source": [
    "# Set hyperparameters\n",
    "T = 3; alpha=0.99\n",
    "\n",
    "# Set stopping condition\n",
    "thres = int(8e4)\n",
    "\n",
    "# Preallocate for appending the error\n",
    "err_array = np.zeros(shape=(thres,))\n",
    "\n",
    "for c in range(0,thres):\n",
    "    \n",
    "    # Draw candidate\n",
    "    q_new = copy.deepcopy(q)\n",
    "    q_new.swap_two_elements_in_column(np.random.randint(0,n**2))\n",
    "    \n",
    "    # Calculate the error \n",
    "    error_new = q_new.error_count()\n",
    "    \n",
    "    # Accept/Reject\n",
    "    if (error_new < error) | (np.exp(-(error_new - error)/T) > np.random.rand()):\n",
    "        q = copy.deepcopy(q_new)\n",
    "        error = error_new\n",
    "        \n",
    "        # Lower the temperature\n",
    "        T = T*alpha\n",
    "    \n",
    "    # Save the error\n",
    "    err_array[c] = error\n",
    "    \n",
    "    # Reset temperature if T to low (means that we are stuck in a local minimum)\n",
    "    if T < 0.01:\n",
    "        print('Resetting T')\n",
    "        T = 2\n",
    "        \n",
    "    if error == 0:\n",
    "        print('Solution found after ', c, ' iterations')\n",
    "        print(q)\n",
    "        break"
   ]
  },
  {
   "cell_type": "markdown",
   "id": "17ba2cf0",
   "metadata": {},
   "source": [
    "If we were lucky, we found a solution to the sudoku. Let us see how the error behaves."
   ]
  },
  {
   "cell_type": "code",
   "execution_count": 10,
   "id": "fe116bf2",
   "metadata": {},
   "outputs": [
    {
     "data": {
      "image/png": "[encoded data removed]",
      "text/plain": [
       "<Figure size 1080x360 with 1 Axes>"
      ]
     },
     "metadata": {
      "needs_background": "light"
     },
     "output_type": "display_data"
    }
   ],
   "source": [
    "plt.rcParams[\"figure.figsize\"] = (15,5)\n",
    "plt.plot(err_array[:c+1])\n",
    "plt.plot(np.zeros(shape=(len(err_array[:c+1]),)), 'k--')\n",
    "plt.xlabel('Iterations')\n",
    "plt.ylabel('Error')\n",
    "plt.grid()\n",
    "plt.show()"
   ]
  },
  {
   "cell_type": "code",
   "execution_count": null,
   "id": "fc64669d",
   "metadata": {},
   "outputs": [],
   "source": []
  }
 ],
 "metadata": {
  "kernelspec": {
   "display_name": "Python 3 (ipykernel)",
   "language": "python",
   "name": "python3"
  },
  "language_info": {
   "codemirror_mode": {
    "name": "ipython",
    "version": 3
   },
   "file_extension": ".py",
   "mimetype": "text/x-python",
   "name": "python",
   "nbconvert_exporter": "python",
   "pygments_lexer": "ipython3",
   "version": "3.9.6"
  }
 },
 "nbformat": 4,
 "nbformat_minor": 5
}
